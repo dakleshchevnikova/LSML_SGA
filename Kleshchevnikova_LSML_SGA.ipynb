{
 "cells": [
  {
   "cell_type": "markdown",
   "metadata": {},
   "source": [
    "# User routes on the site\n",
    "## Description\n",
    "**Clickstream** is a sequence of user actions on a website. It allows you to understand how users interact with the site. In this task, you need to find the most frequent custom routes.\n",
    "\n",
    "## Input data\n",
    "Input data is а table with clickstream data in file `hdfs:/data/clickstream.csv`.\n",
    "\n",
    "### Table structure\n",
    "* `user_id (int)` - Unique user identifier.\n",
    "* `session_id (int)` - Unique identifier for the user session. The user's session lasts until the identifier changes.\n",
    "* `event_type (string)` - Event type from the list:\n",
    "    * **page** - visit to the page\n",
    "    * **event** - any action on the page\n",
    "    * <b>&lt;custom&gt;</b> - string with any other type\n",
    "* `event_type (string)` - Page on the site.\n",
    "* `timestamp (int)` - Unix-timestamp of action.\n",
    "\n",
    "### Browser errors\n",
    "Errors can sometimes occur in the user's browser - after such an error appears, we can no longer trust the data of this session and all the following lines after the error or at the same time with it are considered corrupted and **should not be counted** in statistics.\n",
    "\n",
    "When an error occurs on the page, a random string containing the word **error** will be written to the `event_type` field.\n",
    "\n",
    "### Sample of user session\n",
    "<pre>\n",
    "+-------+----------+------------+----------+----------+\n",
    "|user_id|session_id|  event_type|event_page| timestamp|\n",
    "+-------+----------+------------+----------+----------+\n",
    "|    562|       507|        page|      main|1620494781|\n",
    "|    562|       507|       event|      main|1620494788|\n",
    "|    562|       507|       event|      main|1620494798|\n",
    "|    562|       507|        page|    family|1620494820|\n",
    "|    562|       507|       event|    family|1620494828|\n",
    "|    562|       507|        page|      main|1620494848|\n",
    "|    562|       507|wNaxLlerrorU|      main|1620494865|\n",
    "|    562|       507|       event|      main|1620494873|\n",
    "|    562|       507|        page|      news|1620494875|\n",
    "|    562|       507|        page|   tariffs|1620494876|\n",
    "|    562|       507|       event|   tariffs|1620494884|\n",
    "|    562|       514|        page|      main|1620728918|\n",
    "|    562|       514|       event|      main|1620729174|\n",
    "|    562|       514|        page|   archive|1620729674|\n",
    "|    562|       514|        page|     bonus|1620729797|\n",
    "|    562|       514|        page|   tariffs|1620731090|\n",
    "|    562|       514|       event|   tariffs|1620731187|\n",
    "+-------+----------+------------+----------+----------+\n",
    "</pre>\n",
    "\n",
    "#### Correct user routes for a given user:\n",
    "* **Session 507**: main-family-main\n",
    "* **Session 514**: main-archive-bonus-tariffs\n",
    "\n",
    "Route elements are ordered by the time they appear in the clickstream, from earliest to latest.\n",
    "\n",
    "The route must be accounted for completely before the end of the session or an error in the session.\n",
    "\n",
    "## Task\n",
    "You need to use the Spark SQL, Spark RDD and Spark DF interfaces to create a solution file, the lines of which contain **the 30 most frequent user routes** on the site.\n",
    "\n",
    "Each line of the file should contain the `route` and `count` values **separated by tabs**, where:\n",
    "* `route` - route on the site, consisting of pages separated by \"-\".\n",
    "* `count` - the number of user sessions in which this route was.\n",
    "\n",
    "The lines must be **ordered in descending order** of the `count` field.\n",
    "\n",
    "## Criteria\n",
    "You can get maximum of 3.5 points (final grade) for this assignment, depedning on the number of interface you manage to leverage. The criteria are as follows:\n",
    "\n",
    "* 0.5 points – Spark SQL solution with 1 query\n",
    "* 0.5 points – Spark SQL solution with <=2 queries\n",
    "* 0.5 points – Spark RDD solution\n",
    "* 0.5 points – Spark DF solution\n",
    "* 0.5 points – your solution algorithm is relatively optimized, i.e.: no O^2 or O^3 complexities; appropriate object usage; no data leaks etc. This is evaluated by staff.\n",
    "* 1 point – 1 on 1 screening session. During this session staff member can ask you questions regarding your solution logic, framework usage, questionable parts of your code etc. If your code is clean enough, the staff member can just ask you to solve a theoretical problem connected to Spark.\n"
   ]
  },
  {
   "cell_type": "code",
   "execution_count": 1,
   "metadata": {
    "tags": []
   },
   "outputs": [
    {
     "name": "stderr",
     "output_type": "stream",
     "text": [
      "Setting default log level to \"WARN\".\n",
      "To adjust logging level use sc.setLogLevel(newLevel). For SparkR, use setLogLevel(newLevel).\n",
      "2024-10-27 17:19:26,842 WARN yarn.Client: Neither spark.yarn.jars nor spark.yarn.archive is set, falling back to uploading libraries under SPARK_HOME.\n"
     ]
    }
   ],
   "source": [
    "# loading required libraries and starting spark session\n",
    "import findspark\n",
    "findspark.init()\n",
    "\n",
    "import pyspark\n",
    "sc = pyspark.SparkContext(appName='jupyter')\n",
    "\n",
    "from pyspark.sql import SparkSession, Row\n",
    "se = SparkSession(sc)\n",
    "\n",
    "from pyspark.sql import functions as F\n",
    "from pyspark.sql.types import StructType, StructField, StringType, IntegerType \n",
    "from pyspark.sql import Window\n",
    "\n",
    "import json"
   ]
  },
  {
   "cell_type": "code",
   "execution_count": 2,
   "metadata": {
    "tags": []
   },
   "outputs": [
    {
     "name": "stderr",
     "output_type": "stream",
     "text": [
      "[Stage 0:>                                                          (0 + 1) / 1]\r"
     ]
    },
    {
     "name": "stdout",
     "output_type": "stream",
     "text": [
      "+-------+----------+------------+----------+----------+\n",
      "|user_id|session_id|  event_type|event_page| timestamp|\n",
      "+-------+----------+------------+----------+----------+\n",
      "|    562|       507|        page|      main|1695584127|\n",
      "|    562|       507|       event|      main|1695584134|\n",
      "|    562|       507|       event|      main|1695584144|\n",
      "|    562|       507|       event|      main|1695584147|\n",
      "|    562|       507|wNaxLlerrorU|      main|1695584154|\n",
      "|    562|       507|       event|      main|1695584154|\n",
      "|    562|       507|       event|      main|1695584154|\n",
      "|    562|       507|       event|      main|1695584160|\n",
      "|    562|       507|        page|    rabota|1695584166|\n",
      "|    562|       507|       event|    rabota|1695584174|\n",
      "|    562|       507|       event|    rabota|1695584181|\n",
      "|    562|       507|       event|    rabota|1695584189|\n",
      "|    562|       507|        page|      main|1695584194|\n",
      "|    562|       507|       event|      main|1695584204|\n",
      "|    562|       507|       event|      main|1695584211|\n",
      "|    562|       507|       event|      main|1695584211|\n",
      "|    562|       507|       event|      main|1695584219|\n",
      "|    562|       507|        page|     bonus|1695584221|\n",
      "|    562|       507|        page|    online|1695584222|\n",
      "|    562|       507|       event|    online|1695584230|\n",
      "+-------+----------+------------+----------+----------+\n",
      "only showing top 20 rows\n",
      "\n"
     ]
    },
    {
     "name": "stderr",
     "output_type": "stream",
     "text": [
      "                                                                                \r"
     ]
    }
   ],
   "source": [
    "# read the data\n",
    "\n",
    "schema = StructType([StructField('user_id', IntegerType(), True), \n",
    "                     StructField('session_id', IntegerType(), True),\n",
    "                     StructField('event_type', StringType(), True),\n",
    "                     StructField('event_page', StringType(), True),\n",
    "                     StructField('timestamp', IntegerType(), True)]) \n",
    "\n",
    "\n",
    "clickstream = se.read.csv(\"hdfs:/data/clickstream.csv\", header=True, sep = '\\t', schema = schema)\n",
    "\n",
    "clickstream.registerTempTable(\"clickstream\")\n",
    "clickstream.show()"
   ]
  },
  {
   "cell_type": "markdown",
   "metadata": {},
   "source": [
    "# Spark SQL"
   ]
  },
  {
   "cell_type": "code",
   "execution_count": 3,
   "metadata": {
    "tags": []
   },
   "outputs": [
    {
     "name": "stderr",
     "output_type": "stream",
     "text": [
      "[Stage 6:====================================================>     (9 + 1) / 10]\r"
     ]
    },
    {
     "name": "stdout",
     "output_type": "stream",
     "text": [
      "+--------------------+----+\n",
      "|               route|freq|\n",
      "+--------------------+----+\n",
      "|                main|8184|\n",
      "|        main-archive|1112|\n",
      "|         main-rabota|1046|\n",
      "|       main-internet| 897|\n",
      "|          main-bonus| 870|\n",
      "|           main-news| 769|\n",
      "|        main-tariffs| 676|\n",
      "|         main-online| 587|\n",
      "|          main-vklad| 518|\n",
      "| main-rabota-archive| 170|\n",
      "| main-archive-rabota| 167|\n",
      "|  main-bonus-archive| 143|\n",
      "|   main-rabota-bonus| 139|\n",
      "|   main-bonus-rabota| 135|\n",
      "|    main-news-rabota| 135|\n",
      "|main-archive-inte...| 132|\n",
      "|main-internet-rabota| 129|\n",
      "|    main-rabota-news| 129|\n",
      "|   main-archive-news| 126|\n",
      "|main-rabota-internet| 124|\n",
      "|main-internet-arc...| 123|\n",
      "|  main-archive-bonus| 117|\n",
      "| main-internet-bonus| 115|\n",
      "|main-tariffs-inte...| 114|\n",
      "|   main-news-archive| 113|\n",
      "|  main-news-internet| 109|\n",
      "|main-archive-tariffs| 104|\n",
      "|  main-internet-news| 103|\n",
      "|main-tariffs-archive| 103|\n",
      "|    main-rabota-main|  94|\n",
      "+--------------------+----+\n",
      "\n"
     ]
    },
    {
     "name": "stderr",
     "output_type": "stream",
     "text": [
      "                                                                                \r"
     ]
    }
   ],
   "source": [
    "# sql solution \n",
    "result_sql = se.sql(\"\"\"\n",
    "select route, count(*) as freq\n",
    "from\n",
    "    (select user_id, session_id, concat_ws('-',collect_list(event_page)) route\n",
    "    from\n",
    "        (select clickstream.user_id, clickstream.session_id, clickstream.event_page, lag(clickstream.event_page, 1, '-1') over(partition by clickstream.user_id, clickstream.session_id order by clickstream.timestamp) prev_page\n",
    "            from clickstream \n",
    "                left join (select user_id, session_id, min(timestamp) timestamp\n",
    "                        from clickstream\n",
    "                        where event_type like '%error%' \n",
    "                        group by user_id, session_id) as err on clickstream.user_id = err.user_id and clickstream.session_id = err.session_id\n",
    "            where clickstream.timestamp < err.timestamp or err.timestamp is null) \n",
    "    where event_page <> prev_page\n",
    "    group by user_id, session_id)\n",
    "group by route\n",
    "order by freq desc\n",
    "limit 30\n",
    "\"\"\")\n",
    "\n",
    "result_sql.show(n = 30)"
   ]
  },
  {
   "cell_type": "code",
   "execution_count": 4,
   "metadata": {
    "tags": []
   },
   "outputs": [
    {
     "name": "stderr",
     "output_type": "stream",
     "text": [
      "                                                                                \r"
     ]
    }
   ],
   "source": [
    "# creating the file with results for spark SQL, as described in the task\n",
    "with open(\"results_sql.txt\", \"w\") as f:\n",
    "    for row in result_sql.collect():\n",
    "        res_row = row['route'] + '\\t' + str(row['freq']) + '\\n'\n",
    "        f.write(res_row)"
   ]
  },
  {
   "cell_type": "markdown",
   "metadata": {},
   "source": [
    "# Spark RDD"
   ]
  },
  {
   "cell_type": "code",
   "execution_count": 5,
   "metadata": {
    "tags": []
   },
   "outputs": [
    {
     "name": "stderr",
     "output_type": "stream",
     "text": [
      "                                                                                \r"
     ]
    }
   ],
   "source": [
    "# rdd solution\n",
    "# creating a dictionay of first errors per user session\n",
    "err = (\n",
    "    clickstream.rdd\n",
    "    .filter(lambda x: x.event_type != 'event' and x.event_type != 'page' )\n",
    "    .map(lambda x: (str(x.user_id)+str(x.session_id), x.timestamp))\n",
    "    .reduceByKey(lambda a, b: min(a,b))\n",
    "    .collect()\n",
    ")\n",
    "err = {i: t for i, t in err}"
   ]
  },
  {
   "cell_type": "code",
   "execution_count": 6,
   "metadata": {
    "tags": []
   },
   "outputs": [],
   "source": [
    "# defining the functions we will need\n",
    "\n",
    "def filter_err (x, err):\n",
    "    err_ind = err.setdefault(x[0], 'no_error')\n",
    "    if err_ind == 'no_error':\n",
    "        return True\n",
    "    elif err_ind > x[2]:\n",
    "        return True\n",
    "    else:\n",
    "        return False\n",
    "\n",
    "def get_route(a, b):\n",
    "    prev = a.split('-')[-1]\n",
    "    if prev != b:\n",
    "        return a+'-'+b\n",
    "    else:\n",
    "        return a\n",
    "    "
   ]
  },
  {
   "cell_type": "code",
   "execution_count": 7,
   "metadata": {
    "tags": []
   },
   "outputs": [
    {
     "name": "stderr",
     "output_type": "stream",
     "text": [
      "                                                                                \r"
     ]
    },
    {
     "data": {
      "text/plain": [
       "[('main', 8178),\n",
       " ('main-archive', 1098),\n",
       " ('main-rabota', 1038),\n",
       " ('main-internet', 884),\n",
       " ('main-bonus', 864),\n",
       " ('main-news', 760),\n",
       " ('main-tariffs', 670),\n",
       " ('main-online', 585),\n",
       " ('main-vklad', 513),\n",
       " ('main-rabota-archive', 168),\n",
       " ('main-archive-rabota', 167),\n",
       " ('main-rabota-bonus', 139),\n",
       " ('main-bonus-archive', 139),\n",
       " ('main-news-rabota', 134),\n",
       " ('main-bonus-rabota', 134),\n",
       " ('main-archive-internet', 132),\n",
       " ('main-rabota-news', 128),\n",
       " ('main-internet-rabota', 128),\n",
       " ('main-archive-news', 124),\n",
       " ('main-rabota-internet', 124),\n",
       " ('main-internet-archive', 123),\n",
       " ('main-archive-bonus', 117),\n",
       " ('main-tariffs-internet', 114),\n",
       " ('main-internet-bonus', 114),\n",
       " ('main-news-archive', 112),\n",
       " ('main-news-internet', 108),\n",
       " ('main-archive-tariffs', 103),\n",
       " ('main-tariffs-archive', 102),\n",
       " ('main-internet-news', 101),\n",
       " ('main-rabota-main', 95)]"
      ]
     },
     "execution_count": 7,
     "metadata": {},
     "output_type": "execute_result"
    }
   ],
   "source": [
    "result_rdd = (\n",
    "    clickstream.rdd\n",
    "    .map(lambda x: (str(x.user_id)+str(x.session_id), x.event_page, x.timestamp))\n",
    "    .filter(lambda x:  filter_err (x, err))\n",
    "    .map(lambda x: (x[0], x[1]))\n",
    "    .reduceByKey(lambda a, b: get_route(a, b))\n",
    "    .map(lambda x: (x[1], 1))\n",
    "    .reduceByKey(lambda a, b: a + b)\n",
    "    .sortBy(keyfunc = lambda x: x[1], ascending=False)\n",
    "    .take(30)\n",
    ")\n",
    "\n",
    "result_rdd"
   ]
  },
  {
   "cell_type": "code",
   "execution_count": 8,
   "metadata": {
    "tags": []
   },
   "outputs": [],
   "source": [
    "# creating the file with results for spark RDD\n",
    "with open(\"results_rdd.txt\", \"w\") as f:\n",
    "    for row in result_rdd:\n",
    "        res_row = row[0] + '\\t' + str(row[1]) + '\\n'\n",
    "        f.write(res_row)"
   ]
  },
  {
   "cell_type": "markdown",
   "metadata": {},
   "source": [
    "# Spark DF"
   ]
  },
  {
   "cell_type": "code",
   "execution_count": 9,
   "metadata": {
    "tags": []
   },
   "outputs": [],
   "source": [
    "# df solution\n",
    "# creating a df of first errors per user session\n",
    "error_times = (\n",
    "    clickstream\n",
    "    .filter('event_type not in (\"page\", \"event\")')\n",
    "    .groupBy(['user_id', 'session_id'])\n",
    "    .agg(F.min('timestamp').alias('ts'))\n",
    "    .select(F.col('user_id').alias('u'), F.col('session_id').alias('s'), 'ts')\n",
    ")"
   ]
  },
  {
   "cell_type": "code",
   "execution_count": 10,
   "metadata": {
    "tags": []
   },
   "outputs": [
    {
     "name": "stderr",
     "output_type": "stream",
     "text": [
      "[Stage 36:=======================================>                 (7 + 2) / 10]\r"
     ]
    },
    {
     "name": "stdout",
     "output_type": "stream",
     "text": [
      "+--------------------+-----+\n",
      "|               route|count|\n",
      "+--------------------+-----+\n",
      "|                main| 8184|\n",
      "|        main-archive| 1112|\n",
      "|         main-rabota| 1046|\n",
      "|       main-internet|  897|\n",
      "|          main-bonus|  870|\n",
      "|           main-news|  769|\n",
      "|        main-tariffs|  676|\n",
      "|         main-online|  587|\n",
      "|          main-vklad|  518|\n",
      "| main-rabota-archive|  170|\n",
      "| main-archive-rabota|  167|\n",
      "|  main-bonus-archive|  143|\n",
      "|   main-rabota-bonus|  139|\n",
      "|   main-bonus-rabota|  135|\n",
      "|    main-news-rabota|  135|\n",
      "|main-archive-inte...|  132|\n",
      "|main-internet-rabota|  129|\n",
      "|    main-rabota-news|  129|\n",
      "|   main-archive-news|  126|\n",
      "|main-rabota-internet|  124|\n",
      "|main-internet-arc...|  123|\n",
      "|  main-archive-bonus|  117|\n",
      "| main-internet-bonus|  115|\n",
      "|main-tariffs-inte...|  114|\n",
      "|   main-news-archive|  113|\n",
      "|  main-news-internet|  109|\n",
      "|main-archive-tariffs|  104|\n",
      "|  main-internet-news|  103|\n",
      "|main-tariffs-archive|  103|\n",
      "|    main-rabota-main|   94|\n",
      "+--------------------+-----+\n",
      "\n"
     ]
    },
    {
     "name": "stderr",
     "output_type": "stream",
     "text": [
      "                                                                                \r"
     ]
    }
   ],
   "source": [
    "w = Window.partitionBy(['user_id', 'session_id']).orderBy('timestamp')\n",
    "\n",
    "result_df = (\n",
    "    clickstream\n",
    "    .join(error_times, [clickstream.user_id ==  error_times.u, clickstream.session_id ==  error_times.s], 'left')\n",
    "    .filter('timestamp < ts or ts is null')\n",
    "    .withColumn('prev', F.lag('event_page', 1, '-1').over(w))\n",
    "    .filter('event_page <> prev')\n",
    "    .groupBy(['user_id', 'session_id']).agg(F.array_join(F.collect_list('event_page'),'-').alias('route'))\n",
    "    .groupBy('route').count()\n",
    "    .orderBy(F.desc('count'))\n",
    "    .limit(30)\n",
    ")\n",
    "\n",
    "\n",
    "result_df.show(n = 30)"
   ]
  },
  {
   "cell_type": "code",
   "execution_count": 11,
   "metadata": {
    "tags": []
   },
   "outputs": [
    {
     "name": "stderr",
     "output_type": "stream",
     "text": [
      "                                                                                \r"
     ]
    }
   ],
   "source": [
    "# creating the file with results for spark DF\n",
    "with open(\"results_df.txt\", \"w\") as f:\n",
    "    for row in result_df.collect():\n",
    "        res_row = row['route'] + '\\t' + str(row['count']) + '\\n'\n",
    "        f.write(res_row)"
   ]
  },
  {
   "cell_type": "code",
   "execution_count": 12,
   "metadata": {
    "tags": []
   },
   "outputs": [],
   "source": [
    "# stopping spark\n",
    "sc.stop()"
   ]
  },
  {
   "cell_type": "code",
   "execution_count": null,
   "metadata": {},
   "outputs": [],
   "source": []
  }
 ],
 "metadata": {
  "coursera": {
   "schema_names": [
    "week-4-spark-homework"
   ]
  },
  "kernelspec": {
   "display_name": "Python 3 (ipykernel)",
   "language": "python",
   "name": "python3"
  },
  "language_info": {
   "codemirror_mode": {
    "name": "ipython",
    "version": 3
   },
   "file_extension": ".py",
   "mimetype": "text/x-python",
   "name": "python",
   "nbconvert_exporter": "python",
   "pygments_lexer": "ipython3",
   "version": "3.10.9"
  },
  "vscode": {
   "interpreter": {
    "hash": "31f2aee4e71d21fbe5cf8b01ff0e069b9275f58929596ceb00d14d90e3e16cd6"
   }
  }
 },
 "nbformat": 4,
 "nbformat_minor": 4
}
